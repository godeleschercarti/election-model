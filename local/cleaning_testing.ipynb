{
 "cells": [
  {
   "cell_type": "code",
   "execution_count": 2,
   "id": "c471d900",
   "metadata": {},
   "outputs": [],
   "source": [
    "import pandas as pd "
   ]
  },
  {
   "cell_type": "code",
   "execution_count": 21,
   "id": "86309580",
   "metadata": {},
   "outputs": [
    {
     "data": {
      "text/html": [
       "<div>\n",
       "<style scoped>\n",
       "    .dataframe tbody tr th:only-of-type {\n",
       "        vertical-align: middle;\n",
       "    }\n",
       "\n",
       "    .dataframe tbody tr th {\n",
       "        vertical-align: top;\n",
       "    }\n",
       "\n",
       "    .dataframe thead th {\n",
       "        text-align: right;\n",
       "    }\n",
       "</style>\n",
       "<table border=\"1\" class=\"dataframe\">\n",
       "  <thead>\n",
       "    <tr style=\"text-align: right;\">\n",
       "      <th></th>\n",
       "      <th>Electoral District</th>\n",
       "      <th>Valid Total (a)+(b)</th>\n",
       "      <th>Electors on Master Roll</th>\n",
       "      <th>Electoral Population</th>\n",
       "    </tr>\n",
       "  </thead>\n",
       "  <tbody>\n",
       "    <tr>\n",
       "      <th>0</th>\n",
       "      <td>Albany</td>\n",
       "      <td>34,465</td>\n",
       "      <td>41,815</td>\n",
       "      <td>55,007</td>\n",
       "    </tr>\n",
       "    <tr>\n",
       "      <th>1</th>\n",
       "      <td>Aoraki</td>\n",
       "      <td>34,025</td>\n",
       "      <td>39,665</td>\n",
       "      <td>54,106</td>\n",
       "    </tr>\n",
       "    <tr>\n",
       "      <th>2</th>\n",
       "      <td>Auckland Central</td>\n",
       "      <td>32,885</td>\n",
       "      <td>39,934</td>\n",
       "      <td>53,034</td>\n",
       "    </tr>\n",
       "    <tr>\n",
       "      <th>3</th>\n",
       "      <td>Banks Peninsula</td>\n",
       "      <td>37,532</td>\n",
       "      <td>42,584</td>\n",
       "      <td>54,694</td>\n",
       "    </tr>\n",
       "    <tr>\n",
       "      <th>4</th>\n",
       "      <td>Bay of Plenty</td>\n",
       "      <td>34,484</td>\n",
       "      <td>41,630</td>\n",
       "      <td>51,893</td>\n",
       "    </tr>\n",
       "    <tr>\n",
       "      <th>...</th>\n",
       "      <td>...</td>\n",
       "      <td>...</td>\n",
       "      <td>...</td>\n",
       "      <td>...</td>\n",
       "    </tr>\n",
       "    <tr>\n",
       "      <th>62</th>\n",
       "      <td>Ikaroa-Rawhiti</td>\n",
       "      <td>18,233</td>\n",
       "      <td>26,957</td>\n",
       "      <td>58,287</td>\n",
       "    </tr>\n",
       "    <tr>\n",
       "      <th>63</th>\n",
       "      <td>Te Tai Hauauru</td>\n",
       "      <td>15,789</td>\n",
       "      <td>24,725</td>\n",
       "      <td>54,443</td>\n",
       "    </tr>\n",
       "    <tr>\n",
       "      <th>64</th>\n",
       "      <td>Te Tai Tokerau</td>\n",
       "      <td>18,228</td>\n",
       "      <td>27,748</td>\n",
       "      <td>55,943</td>\n",
       "    </tr>\n",
       "    <tr>\n",
       "      <th>65</th>\n",
       "      <td>Te Tai Tonga</td>\n",
       "      <td>18,778</td>\n",
       "      <td>27,584</td>\n",
       "      <td>58,260</td>\n",
       "    </tr>\n",
       "    <tr>\n",
       "      <th>66</th>\n",
       "      <td>Waiariki</td>\n",
       "      <td>17,607</td>\n",
       "      <td>25,910</td>\n",
       "      <td>55,251</td>\n",
       "    </tr>\n",
       "  </tbody>\n",
       "</table>\n",
       "<p>67 rows × 4 columns</p>\n",
       "</div>"
      ],
      "text/plain": [
       "   Electoral District Valid Total (a)+(b) Electors on Master Roll  \\\n",
       "0              Albany              34,465                  41,815   \n",
       "1              Aoraki              34,025                  39,665   \n",
       "2    Auckland Central              32,885                  39,934   \n",
       "3     Banks Peninsula              37,532                  42,584   \n",
       "4       Bay of Plenty              34,484                  41,630   \n",
       "..                ...                 ...                     ...   \n",
       "62     Ikaroa-Rawhiti              18,233                  26,957   \n",
       "63     Te Tai Hauauru              15,789                  24,725   \n",
       "64     Te Tai Tokerau              18,228                  27,748   \n",
       "65       Te Tai Tonga              18,778                  27,584   \n",
       "66           Waiariki              17,607                  25,910   \n",
       "\n",
       "   Electoral Population  \n",
       "0                55,007  \n",
       "1                54,106  \n",
       "2                53,034  \n",
       "3                54,694  \n",
       "4                51,893  \n",
       "..                  ...  \n",
       "62               58,287  \n",
       "63               54,443  \n",
       "64               55,943  \n",
       "65               58,260  \n",
       "66               55,251  \n",
       "\n",
       "[67 rows x 4 columns]"
      ]
     },
     "execution_count": 21,
     "metadata": {},
     "output_type": "execute_result"
    }
   ],
   "source": [
    "TOTALS_COLS = ['General Electorate Totals', 'Maori Electorate Totals  Inclusive of Tangata Whenua Votes', 'Combined Totals']\n",
    "COLS_TO_KEEP = ['Electoral District', 'Valid Total (a)+(b)', 'Electors on Master Roll' , 'Electoral Population']\n",
    "\n",
    "df = pd.read_csv('../data/raw/1999/party-votes-and-turnout-by-electorate.csv',skiprows=3, header=1)\n",
    "df = df.drop(0)\n",
    "df = df[~df['Electoral District'].isin(TOTALS_COLS)]\n",
    "df = df[~df[\"Electoral District\"].isna()]\n",
    "df.reset_index(drop=True, inplace=True)\n",
    "df = df[COLS_TO_KEEP]\n",
    "df"
   ]
  },
  {
   "cell_type": "code",
   "execution_count": 19,
   "id": "6f8d595a",
   "metadata": {},
   "outputs": [
    {
     "data": {
      "text/plain": [
       "'Maori Electorate Totals  Inclusive of Tangata Whenua Votes'"
      ]
     },
     "execution_count": 19,
     "metadata": {},
     "output_type": "execute_result"
    }
   ],
   "source": [
    "df.loc[69][\"Electoral District\"]"
   ]
  },
  {
   "cell_type": "code",
   "execution_count": null,
   "id": "0b86b022",
   "metadata": {},
   "outputs": [],
   "source": []
  }
 ],
 "metadata": {
  "kernelspec": {
   "display_name": "Python 3",
   "language": "python",
   "name": "python3"
  },
  "language_info": {
   "codemirror_mode": {
    "name": "ipython",
    "version": 3
   },
   "file_extension": ".py",
   "mimetype": "text/x-python",
   "name": "python",
   "nbconvert_exporter": "python",
   "pygments_lexer": "ipython3",
   "version": "3.13.1"
  }
 },
 "nbformat": 4,
 "nbformat_minor": 5
}
